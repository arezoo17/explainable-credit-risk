{
  "cells": [
    {
      "cell_type": "markdown",
      "metadata": {
        "id": "view-in-github",
        "colab_type": "text"
      },
      "source": [
        "<a href=\"https://colab.research.google.com/github/arezoo17/explainable-credit-risk/blob/main/Load_and_Split.ipynb\" target=\"_parent\"><img src=\"https://colab.research.google.com/assets/colab-badge.svg\" alt=\"Open In Colab\"/></a>"
      ]
    },
    {
      "cell_type": "code",
      "execution_count": null,
      "id": "4c8b8784",
      "metadata": {
        "id": "4c8b8784"
      },
      "outputs": [],
      "source": [
        "import pandas as pd\n",
        "from sklearn.model_selection import train_test_split\n"
      ]
    },
    {
      "cell_type": "code",
      "execution_count": null,
      "id": "a0115de3",
      "metadata": {
        "id": "a0115de3"
      },
      "outputs": [],
      "source": [
        "df = pd.read_csv(\"/Users/arezoo/Documents/1.MDDB/MasterProject/Code/German_Credit.csv\")"
      ]
    },
    {
      "cell_type": "code",
      "execution_count": null,
      "id": "5087593c",
      "metadata": {
        "id": "5087593c",
        "outputId": "e8c3e568-70de-416b-c34b-be57ead87947"
      },
      "outputs": [
        {
          "name": "stdout",
          "output_type": "stream",
          "text": [
            "Dataset shape: (1000, 21)\n"
          ]
        }
      ],
      "source": [
        "# Basic shape and structure\n",
        "print(\"Dataset shape:\", df.shape)"
      ]
    },
    {
      "cell_type": "code",
      "execution_count": null,
      "id": "c08cf3d9",
      "metadata": {
        "id": "c08cf3d9",
        "outputId": "829681af-f119-491c-8a8e-86b4f88baf99"
      },
      "outputs": [
        {
          "data": {
            "text/html": [
              "<div>\n",
              "<style scoped>\n",
              "    .dataframe tbody tr th:only-of-type {\n",
              "        vertical-align: middle;\n",
              "    }\n",
              "\n",
              "    .dataframe tbody tr th {\n",
              "        vertical-align: top;\n",
              "    }\n",
              "\n",
              "    .dataframe thead th {\n",
              "        text-align: right;\n",
              "    }\n",
              "</style>\n",
              "<table border=\"1\" class=\"dataframe\">\n",
              "  <thead>\n",
              "    <tr style=\"text-align: right;\">\n",
              "      <th></th>\n",
              "      <th>checking account</th>\n",
              "      <th>Duration</th>\n",
              "      <th>Credit_his</th>\n",
              "      <th>Purpose</th>\n",
              "      <th>Credit amount</th>\n",
              "      <th>Savings account</th>\n",
              "      <th>Present_emp</th>\n",
              "      <th>Installment rate</th>\n",
              "      <th>sex</th>\n",
              "      <th>other_debtor</th>\n",
              "      <th>...</th>\n",
              "      <th>Property</th>\n",
              "      <th>Age</th>\n",
              "      <th>Other_install</th>\n",
              "      <th>Housing</th>\n",
              "      <th>Num_credits</th>\n",
              "      <th>Job</th>\n",
              "      <th>Num_people</th>\n",
              "      <th>Telephone</th>\n",
              "      <th>Foreign worker</th>\n",
              "      <th>Class</th>\n",
              "    </tr>\n",
              "  </thead>\n",
              "  <tbody>\n",
              "    <tr>\n",
              "      <th>0</th>\n",
              "      <td>A11</td>\n",
              "      <td>6</td>\n",
              "      <td>A34</td>\n",
              "      <td>A43</td>\n",
              "      <td>1169</td>\n",
              "      <td>A65</td>\n",
              "      <td>A75</td>\n",
              "      <td>4</td>\n",
              "      <td>A93</td>\n",
              "      <td>A101</td>\n",
              "      <td>...</td>\n",
              "      <td>A121</td>\n",
              "      <td>67</td>\n",
              "      <td>A143</td>\n",
              "      <td>A152</td>\n",
              "      <td>2</td>\n",
              "      <td>A173</td>\n",
              "      <td>1</td>\n",
              "      <td>A192</td>\n",
              "      <td>A201</td>\n",
              "      <td>1</td>\n",
              "    </tr>\n",
              "    <tr>\n",
              "      <th>1</th>\n",
              "      <td>A12</td>\n",
              "      <td>48</td>\n",
              "      <td>A32</td>\n",
              "      <td>A43</td>\n",
              "      <td>5951</td>\n",
              "      <td>A61</td>\n",
              "      <td>A73</td>\n",
              "      <td>2</td>\n",
              "      <td>A92</td>\n",
              "      <td>A101</td>\n",
              "      <td>...</td>\n",
              "      <td>A121</td>\n",
              "      <td>22</td>\n",
              "      <td>A143</td>\n",
              "      <td>A152</td>\n",
              "      <td>1</td>\n",
              "      <td>A173</td>\n",
              "      <td>1</td>\n",
              "      <td>A191</td>\n",
              "      <td>A201</td>\n",
              "      <td>2</td>\n",
              "    </tr>\n",
              "    <tr>\n",
              "      <th>2</th>\n",
              "      <td>A14</td>\n",
              "      <td>12</td>\n",
              "      <td>A34</td>\n",
              "      <td>A46</td>\n",
              "      <td>2096</td>\n",
              "      <td>A61</td>\n",
              "      <td>A74</td>\n",
              "      <td>2</td>\n",
              "      <td>A93</td>\n",
              "      <td>A101</td>\n",
              "      <td>...</td>\n",
              "      <td>A121</td>\n",
              "      <td>49</td>\n",
              "      <td>A143</td>\n",
              "      <td>A152</td>\n",
              "      <td>1</td>\n",
              "      <td>A172</td>\n",
              "      <td>2</td>\n",
              "      <td>A191</td>\n",
              "      <td>A201</td>\n",
              "      <td>1</td>\n",
              "    </tr>\n",
              "    <tr>\n",
              "      <th>3</th>\n",
              "      <td>A11</td>\n",
              "      <td>42</td>\n",
              "      <td>A32</td>\n",
              "      <td>A42</td>\n",
              "      <td>7882</td>\n",
              "      <td>A61</td>\n",
              "      <td>A74</td>\n",
              "      <td>2</td>\n",
              "      <td>A93</td>\n",
              "      <td>A103</td>\n",
              "      <td>...</td>\n",
              "      <td>A122</td>\n",
              "      <td>45</td>\n",
              "      <td>A143</td>\n",
              "      <td>A153</td>\n",
              "      <td>1</td>\n",
              "      <td>A173</td>\n",
              "      <td>2</td>\n",
              "      <td>A191</td>\n",
              "      <td>A201</td>\n",
              "      <td>1</td>\n",
              "    </tr>\n",
              "    <tr>\n",
              "      <th>4</th>\n",
              "      <td>A11</td>\n",
              "      <td>24</td>\n",
              "      <td>A33</td>\n",
              "      <td>A40</td>\n",
              "      <td>4870</td>\n",
              "      <td>A61</td>\n",
              "      <td>A73</td>\n",
              "      <td>3</td>\n",
              "      <td>A93</td>\n",
              "      <td>A101</td>\n",
              "      <td>...</td>\n",
              "      <td>A124</td>\n",
              "      <td>53</td>\n",
              "      <td>A143</td>\n",
              "      <td>A153</td>\n",
              "      <td>2</td>\n",
              "      <td>A173</td>\n",
              "      <td>2</td>\n",
              "      <td>A191</td>\n",
              "      <td>A201</td>\n",
              "      <td>2</td>\n",
              "    </tr>\n",
              "  </tbody>\n",
              "</table>\n",
              "<p>5 rows × 21 columns</p>\n",
              "</div>"
            ],
            "text/plain": [
              "  checking account  Duration Credit_his Purpose  Credit amount  \\\n",
              "0              A11         6        A34     A43           1169   \n",
              "1              A12        48        A32     A43           5951   \n",
              "2              A14        12        A34     A46           2096   \n",
              "3              A11        42        A32     A42           7882   \n",
              "4              A11        24        A33     A40           4870   \n",
              "\n",
              "  Savings account Present_emp  Installment rate  sex other_debtor  ...  \\\n",
              "0             A65         A75                 4  A93         A101  ...   \n",
              "1             A61         A73                 2  A92         A101  ...   \n",
              "2             A61         A74                 2  A93         A101  ...   \n",
              "3             A61         A74                 2  A93         A103  ...   \n",
              "4             A61         A73                 3  A93         A101  ...   \n",
              "\n",
              "   Property Age  Other_install Housing Num_credits   Job Num_people  \\\n",
              "0      A121  67           A143    A152           2  A173          1   \n",
              "1      A121  22           A143    A152           1  A173          1   \n",
              "2      A121  49           A143    A152           1  A172          2   \n",
              "3      A122  45           A143    A153           1  A173          2   \n",
              "4      A124  53           A143    A153           2  A173          2   \n",
              "\n",
              "   Telephone Foreign worker Class  \n",
              "0       A192           A201     1  \n",
              "1       A191           A201     2  \n",
              "2       A191           A201     1  \n",
              "3       A191           A201     1  \n",
              "4       A191           A201     2  \n",
              "\n",
              "[5 rows x 21 columns]"
            ]
          },
          "execution_count": 4,
          "metadata": {},
          "output_type": "execute_result"
        }
      ],
      "source": [
        "df.head()"
      ]
    },
    {
      "cell_type": "code",
      "execution_count": null,
      "id": "18a828e4",
      "metadata": {
        "id": "18a828e4",
        "outputId": "bf09c3df-86ab-4643-b6e1-fd94ebdd309f"
      },
      "outputs": [
        {
          "name": "stdout",
          "output_type": "stream",
          "text": [
            "<class 'pandas.core.frame.DataFrame'>\n",
            "RangeIndex: 1000 entries, 0 to 999\n",
            "Data columns (total 21 columns):\n",
            " #   Column            Non-Null Count  Dtype \n",
            "---  ------            --------------  ----- \n",
            " 0   checking account  1000 non-null   object\n",
            " 1   Duration          1000 non-null   int64 \n",
            " 2   Credit_his        1000 non-null   object\n",
            " 3   Purpose           1000 non-null   object\n",
            " 4   Credit amount     1000 non-null   int64 \n",
            " 5   Savings account   1000 non-null   object\n",
            " 6   Present_emp       1000 non-null   object\n",
            " 7   Installment rate  1000 non-null   int64 \n",
            " 8   sex               1000 non-null   object\n",
            " 9   other_debtor      1000 non-null   object\n",
            " 10  Present_resid     1000 non-null   int64 \n",
            " 11  Property          1000 non-null   object\n",
            " 12  Age               1000 non-null   int64 \n",
            " 13  Other_install     1000 non-null   object\n",
            " 14  Housing           1000 non-null   object\n",
            " 15  Num_credits       1000 non-null   int64 \n",
            " 16  Job               1000 non-null   object\n",
            " 17  Num_people        1000 non-null   int64 \n",
            " 18  Telephone         1000 non-null   object\n",
            " 19  Foreign worker    1000 non-null   object\n",
            " 20  Class             1000 non-null   int64 \n",
            "dtypes: int64(8), object(13)\n",
            "memory usage: 164.2+ KB\n"
          ]
        }
      ],
      "source": [
        "df.info()"
      ]
    },
    {
      "cell_type": "code",
      "execution_count": null,
      "id": "c104eb1c",
      "metadata": {
        "id": "c104eb1c",
        "outputId": "cd0f321b-d389-4ff6-b627-243942e1fdf0"
      },
      "outputs": [
        {
          "data": {
            "text/plain": [
              "checking account    0\n",
              "Duration            0\n",
              "Credit_his          0\n",
              "Purpose             0\n",
              "Credit amount       0\n",
              "Savings account     0\n",
              "Present_emp         0\n",
              "Installment rate    0\n",
              "sex                 0\n",
              "other_debtor        0\n",
              "Present_resid       0\n",
              "Property            0\n",
              "Age                 0\n",
              "Other_install       0\n",
              "Housing             0\n",
              "Num_credits         0\n",
              "Job                 0\n",
              "Num_people          0\n",
              "Telephone           0\n",
              "Foreign worker      0\n",
              "Class               0\n",
              "dtype: int64"
            ]
          },
          "execution_count": 6,
          "metadata": {},
          "output_type": "execute_result"
        }
      ],
      "source": [
        "df.isnull().sum()"
      ]
    },
    {
      "cell_type": "code",
      "execution_count": null,
      "id": "f86f821c",
      "metadata": {
        "id": "f86f821c",
        "outputId": "5de5d5d2-a90d-4bd4-8bc4-51339ee138ae"
      },
      "outputs": [
        {
          "data": {
            "text/plain": [
              "checking account      4\n",
              "Duration             33\n",
              "Credit_his            5\n",
              "Purpose              10\n",
              "Credit amount       921\n",
              "Savings account       5\n",
              "Present_emp           5\n",
              "Installment rate      4\n",
              "sex                   4\n",
              "other_debtor          3\n",
              "Present_resid         4\n",
              "Property              4\n",
              "Age                  53\n",
              "Other_install         3\n",
              "Housing               3\n",
              "Num_credits           4\n",
              "Job                   4\n",
              "Num_people            2\n",
              "Telephone             2\n",
              "Foreign worker        2\n",
              "Class                 2\n",
              "dtype: int64"
            ]
          },
          "execution_count": 7,
          "metadata": {},
          "output_type": "execute_result"
        }
      ],
      "source": [
        "df.nunique()"
      ]
    },
    {
      "cell_type": "code",
      "execution_count": null,
      "id": "ad3318b3",
      "metadata": {
        "id": "ad3318b3",
        "outputId": "ede32193-3eae-4304-e2e5-0d3d44f158ba"
      },
      "outputs": [
        {
          "name": "stdout",
          "output_type": "stream",
          "text": [
            "A14    394\n",
            "A11    274\n",
            "A12    269\n",
            "A13     63\n",
            "Name: checking account, dtype: int64 \n",
            "\n",
            "\n",
            "A32    530\n",
            "A34    293\n",
            "A33     88\n",
            "A31     49\n",
            "A30     40\n",
            "Name: Credit_his, dtype: int64 \n",
            "\n",
            "\n",
            "A43     280\n",
            "A40     234\n",
            "A42     181\n",
            "A41     103\n",
            "A49      97\n",
            "A46      50\n",
            "A45      22\n",
            "A44      12\n",
            "A410     12\n",
            "A48       9\n",
            "Name: Purpose, dtype: int64 \n",
            "\n",
            "\n",
            "A61    603\n",
            "A65    183\n",
            "A62    103\n",
            "A63     63\n",
            "A64     48\n",
            "Name: Savings account, dtype: int64 \n",
            "\n",
            "\n",
            "A73    339\n",
            "A75    253\n",
            "A74    174\n",
            "A72    172\n",
            "A71     62\n",
            "Name: Present_emp, dtype: int64 \n",
            "\n",
            "\n",
            "A93    548\n",
            "A92    310\n",
            "A94     92\n",
            "A91     50\n",
            "Name: sex, dtype: int64 \n",
            "\n",
            "\n",
            "A101    907\n",
            "A103     52\n",
            "A102     41\n",
            "Name: other_debtor, dtype: int64 \n",
            "\n",
            "\n",
            "A123    332\n",
            "A121    282\n",
            "A122    232\n",
            "A124    154\n",
            "Name: Property, dtype: int64 \n",
            "\n",
            "\n",
            "A143    814\n",
            "A141    139\n",
            "A142     47\n",
            "Name: Other_install, dtype: int64 \n",
            "\n",
            "\n",
            "A152    713\n",
            "A151    179\n",
            "A153    108\n",
            "Name: Housing, dtype: int64 \n",
            "\n",
            "\n",
            "A173    630\n",
            "A172    200\n",
            "A174    148\n",
            "A171     22\n",
            "Name: Job, dtype: int64 \n",
            "\n",
            "\n",
            "A191    596\n",
            "A192    404\n",
            "Name: Telephone, dtype: int64 \n",
            "\n",
            "\n",
            "A201    963\n",
            "A202     37\n",
            "Name: Foreign worker, dtype: int64 \n",
            "\n",
            "\n"
          ]
        }
      ],
      "source": [
        "cat_cols = [col for col in df.columns if df[col].dtypes == 'O']\n",
        "\n",
        "for col in cat_cols:\n",
        "    print(df[col].value_counts(), \"\\n\\n\")"
      ]
    },
    {
      "cell_type": "markdown",
      "id": "2f0f2b83",
      "metadata": {
        "id": "2f0f2b83"
      },
      "source": [
        "## 📂 Step 2: Rename Columns and Transform Target Variable\n",
        "\n",
        "In this step, we will:\n",
        "\n",
        "1. Rename all column names to more descriptive, human-readable ones (based on the UCI data dictionary).\n",
        "2. Transform the target variable (`Class`) so that:\n",
        "   - `1` → `0` (Good credit — **non-default**)\n",
        "   - `2` → `1` (Bad credit — **default**)\n",
        "\n",
        "This transformation aligns with standard machine learning practices where `1` represents the **positive class** (the event we want to detect — in this case, default risk).\n"
      ]
    },
    {
      "cell_type": "markdown",
      "id": "60b46cd3",
      "metadata": {
        "id": "60b46cd3"
      },
      "source": [
        "| Step                   | Explanation                                                                                                                                                                      |\n",
        "| ---------------------- | -------------------------------------------------------------------------------------------------------------------------------------------------------------------------------- |\n",
        "| **Renaming columns**   | We give short, readable names to complex column titles. This makes coding easier and helps us explain results clearly in the thesis.                                             |\n",
        "| **Mapping the target** | In ML, it's conventional to mark the event we care about (default) as `1`, and everything else as `0`. So we convert: <br> `Class = 1 (Good)` → `0` <br> `Class = 2 (Bad)` → `1` |\n",
        "| **Why?**               | Most ML models and performance metrics are built around detecting the \"positive class\" — in this case, credit defaults.                                                          |\n",
        "| **Validation step**    | We print out the updated column list and class distribution to confirm the changes are correct.                                                                                  |\n"
      ]
    },
    {
      "cell_type": "code",
      "execution_count": null,
      "id": "99240e93",
      "metadata": {
        "id": "99240e93",
        "outputId": "fb9a4658-32b0-49c6-e7f5-4609e6453f52"
      },
      "outputs": [
        {
          "name": "stdout",
          "output_type": "stream",
          "text": [
            "\n",
            "✅ Updated column names:\n",
            "['checking_account', 'duration_months', 'credit_history', 'purpose', 'credit_amount', 'savings_account', 'employment_duration', 'installment_rate', 'personal_status_sex', 'other_debtors', 'residence_since', 'property', 'age', 'other_installment_plans', 'housing', 'existing_credits', 'job', 'num_dependents', 'telephone', 'foreign_worker', 'target']\n",
            "\n",
            "🎯 Value counts after target transformation (0 = good, 1 = default):\n",
            "0    70.0\n",
            "1    30.0\n",
            "Name: target, dtype: float64\n"
          ]
        }
      ],
      "source": [
        "#Define new column names for clarity, based on UCI dictionary\n",
        "new_column_names = {\n",
        "    \"checking account\": \"checking_account\",\n",
        "    \"Duration\": \"duration_months\",\n",
        "    \"Credit_his\": \"credit_history\",\n",
        "    \"Purpose\": \"purpose\",\n",
        "    \"Credit amount\": \"credit_amount\",\n",
        "    \"Savings account\": \"savings_account\",\n",
        "    \"Present_emp\": \"employment_duration\",\n",
        "    \"Installment rate\": \"installment_rate\",\n",
        "    \"sex\": \"personal_status_sex\",\n",
        "    \"other_debtor\": \"other_debtors\",\n",
        "    \"Present_resid\": \"residence_since\",\n",
        "    \"Property\": \"property\",\n",
        "    \"Age\": \"age\",\n",
        "    \"Other_install\": \"other_installment_plans\",\n",
        "    \"Housing\": \"housing\",\n",
        "    \"Num_credits\": \"existing_credits\",\n",
        "    \"Job\": \"job\",\n",
        "    \"Num_people\": \"num_dependents\",\n",
        "    \"Telephone\": \"telephone\",\n",
        "    \"Foreign worker\": \"foreign_worker\",\n",
        "    \"Class\": \"target\"\n",
        "}\n",
        "\n",
        "#Apply the renaming to the DataFrame\n",
        "df.rename(columns=new_column_names, inplace=True)\n",
        "\n",
        "#Recode the target variable: 1 → 0 (good credit), 2 → 1 (bad credit)\n",
        "df[\"target\"] = df[\"target\"].map({1: 0, 2: 1})\n",
        "\n",
        "#Double check results\n",
        "print(\"\\n✅ Updated column names:\")\n",
        "print(df.columns.tolist())\n",
        "\n",
        "print(\"\\n🎯 Value counts after target transformation (0 = good, 1 = default):\")\n",
        "print(df[\"target\"].value_counts(normalize=True) * 100)"
      ]
    },
    {
      "cell_type": "markdown",
      "id": "08f99fb4",
      "metadata": {
        "id": "08f99fb4"
      },
      "source": [
        "### 📌 Train-Test Split (70-30) with Stratified Sampling\n",
        "\n",
        "To ensure a fair model evaluation, we split the dataset into a training set (70%) and a test set (30%) before applying any preprocessing.  \n",
        "We use **stratified sampling** to preserve the original distribution of the target variable (`target`) in both subsets. This is important due to class imbalance in the dataset (more good credits than bad).\n",
        "\n",
        "The test set will remain untouched until the final model evaluation, ensuring unbiased performance metrics.\n"
      ]
    },
    {
      "cell_type": "code",
      "execution_count": null,
      "id": "a6b656bf",
      "metadata": {
        "id": "a6b656bf",
        "outputId": "79e4531c-9799-44e3-bcd7-e17b1b128da0"
      },
      "outputs": [
        {
          "name": "stdout",
          "output_type": "stream",
          "text": [
            "Train target distribution:\n",
            "0    70.0\n",
            "1    30.0\n",
            "Name: target, dtype: float64\n",
            "\n",
            "Test target distribution:\n",
            "0    70.0\n",
            "1    30.0\n",
            "Name: target, dtype: float64\n"
          ]
        }
      ],
      "source": [
        "# Split the data while preserving class distribution\n",
        "df_train, df_test = train_test_split(\n",
        "    df,\n",
        "    test_size=0.3,\n",
        "    stratify=df['target'],\n",
        "    random_state=42\n",
        ")\n",
        "\n",
        "# Reset indexes for clean usage\n",
        "df = df_train.reset_index(drop=True)\n",
        "df_test = df_test.reset_index(drop=True)\n",
        "\n",
        "# Check the class distribution in both sets\n",
        "print(\"Train target distribution:\")\n",
        "print(df['target'].value_counts(normalize=True) * 100)\n",
        "\n",
        "print(\"\\nTest target distribution:\")\n",
        "print(df_test['target'].value_counts(normalize=True) * 100)\n"
      ]
    },
    {
      "cell_type": "code",
      "execution_count": null,
      "id": "b41c2093",
      "metadata": {
        "id": "b41c2093"
      },
      "outputs": [],
      "source": [
        "df.to_csv(\"/Users/arezoo/Documents/1.MDDB/MasterProject/Code/df_train.csv\", index=False)\n",
        "df_test.to_csv(\"/Users/arezoo/Documents/1.MDDB/MasterProject/Code/df_test.csv\", index=False)"
      ]
    }
  ],
  "metadata": {
    "kernelspec": {
      "display_name": "base",
      "language": "python",
      "name": "python3"
    },
    "language_info": {
      "codemirror_mode": {
        "name": "ipython",
        "version": 3
      },
      "file_extension": ".py",
      "mimetype": "text/x-python",
      "name": "python",
      "nbconvert_exporter": "python",
      "pygments_lexer": "ipython3",
      "version": "3.8.20"
    },
    "colab": {
      "provenance": [],
      "toc_visible": true,
      "include_colab_link": true
    }
  },
  "nbformat": 4,
  "nbformat_minor": 5
}